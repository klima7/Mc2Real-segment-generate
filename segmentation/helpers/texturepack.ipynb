{
 "cells": [
  {
   "attachments": {},
   "cell_type": "markdown",
   "metadata": {},
   "source": [
    "# Texturepack\n",
    "\n",
    "Helper methods to streamline creating minecraft texture pack for segmentation"
   ]
  },
  {
   "cell_type": "code",
   "execution_count": 9,
   "metadata": {},
   "outputs": [],
   "source": [
    "import os\n",
    "from pathlib import Path\n",
    "from glob import glob\n",
    "from PIL import Image\n",
    "import cv2\n",
    "import numpy as np\n",
    "\n",
    "from mapping import mapping, mapping_old"
   ]
  },
  {
   "cell_type": "code",
   "execution_count": 10,
   "metadata": {},
   "outputs": [],
   "source": [
    "TEXTURES_PATH = Path(r'C:\\\\Users\\\\Lukasz\\AppData\\\\Roaming\\\\.mcRPW\\\\projects\\\\Segmentation\\\\project_files\\\\assets\\\\minecraft\\\\textures')\n",
    "TRANSPARENT = (0, 0, 0, 0)"
   ]
  },
  {
   "cell_type": "code",
   "execution_count": 12,
   "metadata": {},
   "outputs": [],
   "source": [
    "def replace_image_with_rgb(path, color):\n",
    "    with Image.open(path) as image:\n",
    "        new_image = Image.new('RGBA', image.size, color)\n",
    "    os.remove(path)\n",
    "    new_image.save(path)"
   ]
  },
  {
   "cell_type": "code",
   "execution_count": 4,
   "metadata": {},
   "outputs": [],
   "source": [
    "def replace_image_with_hsv(path, hsv_color):\n",
    "    input_image = cv2.imread(str(path))\n",
    "    output_image = np.full_like(input_image, np.array(hsv_color, dtype=np.uint8), dtype=np.uint8)\n",
    "    output_image = cv2.cvtColor(output_image, cv2.COLOR_HSV2BGR)\n",
    "    cv2.imwrite(str(path), output_image)"
   ]
  },
  {
   "cell_type": "code",
   "execution_count": 16,
   "metadata": {},
   "outputs": [],
   "source": [
    "path = TEXTURES_PATH / 'block' / 'grass.png'\n",
    "replace_image_with_hsv(path, mapping['grass'])"
   ]
  },
  {
   "cell_type": "code",
   "execution_count": 9,
   "metadata": {},
   "outputs": [
    {
     "name": "stdout",
     "output_type": "stream",
     "text": [
      "C:\\Users\\Lukasz\\AppData\\Roaming\\.mcRPW\\projects\\Segmentation\\project_files\\assets\\minecraft\\textures\\block\\acacia_leaves.png\n",
      "C:\\Users\\Lukasz\\AppData\\Roaming\\.mcRPW\\projects\\Segmentation\\project_files\\assets\\minecraft\\textures\\block\\azalea_leaves.png\n",
      "C:\\Users\\Lukasz\\AppData\\Roaming\\.mcRPW\\projects\\Segmentation\\project_files\\assets\\minecraft\\textures\\block\\bamboo_large_leaves.png\n",
      "C:\\Users\\Lukasz\\AppData\\Roaming\\.mcRPW\\projects\\Segmentation\\project_files\\assets\\minecraft\\textures\\block\\bamboo_small_leaves.png\n",
      "C:\\Users\\Lukasz\\AppData\\Roaming\\.mcRPW\\projects\\Segmentation\\project_files\\assets\\minecraft\\textures\\block\\birch_leaves.png\n",
      "C:\\Users\\Lukasz\\AppData\\Roaming\\.mcRPW\\projects\\Segmentation\\project_files\\assets\\minecraft\\textures\\block\\cherry_leaves.png\n",
      "C:\\Users\\Lukasz\\AppData\\Roaming\\.mcRPW\\projects\\Segmentation\\project_files\\assets\\minecraft\\textures\\block\\dark_oak_leaves.png\n",
      "C:\\Users\\Lukasz\\AppData\\Roaming\\.mcRPW\\projects\\Segmentation\\project_files\\assets\\minecraft\\textures\\block\\flowering_azalea_leaves.png\n",
      "C:\\Users\\Lukasz\\AppData\\Roaming\\.mcRPW\\projects\\Segmentation\\project_files\\assets\\minecraft\\textures\\block\\jungle_leaves.png\n",
      "C:\\Users\\Lukasz\\AppData\\Roaming\\.mcRPW\\projects\\Segmentation\\project_files\\assets\\minecraft\\textures\\block\\mangrove_leaves.png\n",
      "C:\\Users\\Lukasz\\AppData\\Roaming\\.mcRPW\\projects\\Segmentation\\project_files\\assets\\minecraft\\textures\\block\\oak_leaves.png\n",
      "C:\\Users\\Lukasz\\AppData\\Roaming\\.mcRPW\\projects\\Segmentation\\project_files\\assets\\minecraft\\textures\\block\\spruce_leaves.png\n"
     ]
    }
   ],
   "source": [
    "paths = list(glob(str(TEXTURES_PATH / 'block') + '/*.png'))\n",
    "for path in paths:\n",
    "    if 'leaves' in path:\n",
    "        print(path)\n",
    "        replace_image_with_hsv(path, (0, 0, 0))\n"
   ]
  },
  {
   "attachments": {},
   "cell_type": "markdown",
   "metadata": {},
   "source": [
    "# Unique colors"
   ]
  },
  {
   "cell_type": "code",
   "execution_count": 5,
   "metadata": {},
   "outputs": [
    {
     "name": "stdout",
     "output_type": "stream",
     "text": [
      "(127, 127, 127)      [  0 127   0]       \n",
      "(0, 0, 0)            [0 0 0]             \n",
      "(255, 0, 0)          [  0 128 255]       \n",
      "(255, 255, 255)      [  0 255   0]       \n",
      "(247, 26, 230)       [152 137 238]       \n",
      "(255, 201, 14)       [ 23 134 255]       \n",
      "(128, 255, 128)      [ 60 192 255]       \n",
      "(34, 127, 0)         [ 52  64 255]       \n",
      "(0, 0, 255)          [120 128 255]       \n",
      "(139, 69, 19)        [ 12  79 194]       \n"
     ]
    }
   ],
   "source": [
    "paths = list(glob(str(TEXTURES_PATH) + '/**/*.png'))\n",
    "colors_rgb = []\n",
    "for path in paths:\n",
    "    input_image = cv2.imread(path)\n",
    "    color_rgb = tuple(input_image[0, 0, ::-1])\n",
    "    colors_rgb.append(color_rgb)\n",
    "    \n",
    "colors_rgb = list(set(colors_rgb))\n",
    "colors_hsv = cv2.cvtColor(np.array(colors_rgb, dtype=np.uint8).reshape(1, -1, 3), cv2.COLOR_RGB2HLS).reshape(-1, 3)\n",
    "\n",
    "for rgb, hsv in zip(colors_rgb, colors_hsv):\n",
    "    print(f'{str(rgb):20} {str(hsv):20}')"
   ]
  },
  {
   "attachments": {},
   "cell_type": "markdown",
   "metadata": {},
   "source": [
    "## RGB to HSV"
   ]
  },
  {
   "cell_type": "code",
   "execution_count": 6,
   "metadata": {},
   "outputs": [],
   "source": [
    "def get_label_name(path, mapping):\n",
    "    input_image = cv2.imread(path)\n",
    "    color = tuple(input_image[0, 0, ::-1])\n",
    "    \n",
    "    if color not in list(mapping.values()):\n",
    "        return None\n",
    "    else:\n",
    "        return [key for key, value in mapping.items() if value == color][0]"
   ]
  },
  {
   "cell_type": "code",
   "execution_count": 5,
   "metadata": {},
   "outputs": [],
   "source": [
    "replace_image_with_hsv('C:\\\\Users\\\\Lukasz\\\\Downloads\\\\cat.png', (0, 0, 31))"
   ]
  },
  {
   "cell_type": "code",
   "execution_count": null,
   "metadata": {},
   "outputs": [],
   "source": [
    "get_label_name(str(TEXTURES_PATH / 'block' / 'grass.png'), mapping_old)"
   ]
  },
  {
   "cell_type": "code",
   "execution_count": 8,
   "metadata": {},
   "outputs": [],
   "source": [
    "# paths = list(glob(str(TEXTURES_PATH / 'block') + '/*.png'))\n",
    "paths = list(glob(str(TEXTURES_PATH / 'entity') + '/**/*.png'))\n",
    "for path in paths:\n",
    "    label_name = get_label_name(path, mapping_old)\n",
    "    if label_name is None:\n",
    "        print('Ignoring', path)\n",
    "        continue\n",
    "    hsv_color = mapping[label_name]\n",
    "    replace_image_with_hsv(path, hsv_color)\n",
    "    # print('changing', path)"
   ]
  }
 ],
 "metadata": {
  "kernelspec": {
   "display_name": "ImageSwapper",
   "language": "python",
   "name": "python3"
  },
  "language_info": {
   "codemirror_mode": {
    "name": "ipython",
    "version": 3
   },
   "file_extension": ".py",
   "mimetype": "text/x-python",
   "name": "python",
   "nbconvert_exporter": "python",
   "pygments_lexer": "ipython3",
   "version": "3.10.11"
  },
  "orig_nbformat": 4
 },
 "nbformat": 4,
 "nbformat_minor": 2
}
