{
 "cells": [
  {
   "cell_type": "code",
   "execution_count": 10,
   "metadata": {},
   "outputs": [],
   "source": [
    "import tensorflow as tf\n",
    "import keras\n",
    "from keras import layers\n",
    "import matplotlib.pyplot as plt\n"
   ]
  },
  {
   "cell_type": "code",
   "execution_count": 11,
   "metadata": {},
   "outputs": [],
   "source": [
    "class DoubleConvLayer(layers.Layer):\n",
    "    \n",
    "    def __init__(self, n_filters, **kwargs):\n",
    "        super().__init__(**kwargs)\n",
    "        self.conv1 = layers.Conv2D(n_filters, 3, padding = \"same\", activation = \"relu\", kernel_initializer = \"he_normal\")\n",
    "        self.conv2 = layers.Conv2D(n_filters, 3, padding = \"same\", activation = \"relu\", kernel_initializer = \"he_normal\")\n",
    "    \n",
    "    def call(self, inputs):\n",
    "        out = self.conv1(inputs)\n",
    "        out = self.conv2(out)\n",
    "        return out"
   ]
  },
  {
   "cell_type": "code",
   "execution_count": 12,
   "metadata": {},
   "outputs": [],
   "source": [
    "class DownsampleLayer(layers.Layer):\n",
    "    \n",
    "    def __init__(self, n_filters, **kwargs):\n",
    "        super().__init__(**kwargs)\n",
    "        self.conv = DoubleConvLayer(n_filters)\n",
    "        self.pool = layers.MaxPool2D(2)\n",
    "        self.dropout = layers.Dropout(0.3)\n",
    "    \n",
    "    def call(self, inputs):\n",
    "        large = self.conv(inputs)\n",
    "        small = self.pool(large)\n",
    "        small = self.dropout(small)\n",
    "        return large, small"
   ]
  },
  {
   "cell_type": "code",
   "execution_count": 61,
   "metadata": {},
   "outputs": [],
   "source": [
    "class UpsampleLayer(layers.Layer):\n",
    "    \n",
    "    def __init__(self, n_filters, **kwargs):\n",
    "        super().__init__(**kwargs)\n",
    "        self.conv_trans = layers.Conv2DTranspose(n_filters, 3, 2, padding=\"same\")\n",
    "        self.dropout = layers.Dropout(0.3)\n",
    "        self.conv = DoubleConvLayer(n_filters)\n",
    "    \n",
    "    def call(self, inputs, conv_features):\n",
    "        out = self.conv_trans(inputs)\n",
    "        out  = layers.concatenate([out, conv_features])\n",
    "        out = self.dropout(out)\n",
    "        out = self.conv(out)\n",
    "        return out"
   ]
  },
  {
   "cell_type": "code",
   "execution_count": 62,
   "metadata": {},
   "outputs": [],
   "source": [
    "class UnetModel(keras.Model):\n",
    "    \n",
    "    def __init__(self, name='unet', **kwargs):\n",
    "        super().__init__(name=name, **kwargs)\n",
    "        \n",
    "        self.down1 = DownsampleLayer(64)\n",
    "        self.down2 = DownsampleLayer(128)\n",
    "        self.down3 = DownsampleLayer(256)\n",
    "        self.down4 = DownsampleLayer(512)\n",
    "        \n",
    "        self.middle_conv = DoubleConvLayer(1024)\n",
    "        \n",
    "        self.up1 = UpsampleLayer(512)\n",
    "        self.up2 = UpsampleLayer(256)\n",
    "        self.up3 = UpsampleLayer(128)\n",
    "        self.up4 = UpsampleLayer(64)\n",
    "        \n",
    "        self.last_conv = layers.Conv2D(11, 1, padding=\"same\", activation = \"softmax\")\n",
    "        \n",
    "        self.build(input_shape=(None, 128, 128, 3))\n",
    "        \n",
    "    def call(self, inputs):\n",
    "        f1, p1 = self.down1(inputs)\n",
    "        f2, p2 = self.down2(p1)\n",
    "        f3, p3 = self.down3(p2)\n",
    "        f4, p4 = self.down4(p3)\n",
    "        \n",
    "        bottleneck = self.middle_conv(p4)\n",
    "        \n",
    "        u1 = self.up1(bottleneck, f4)\n",
    "        u2 = self.up2(u1, f3)\n",
    "        u3 = self.up3(u2, f2)\n",
    "        u4 = self.up4(u3, f1)\n",
    "        \n",
    "        outputs = self.last_conv(u4)\n",
    "        return outputs"
   ]
  },
  {
   "cell_type": "code",
   "execution_count": 63,
   "metadata": {},
   "outputs": [],
   "source": [
    "model = UnetModel()"
   ]
  },
  {
   "cell_type": "code",
   "execution_count": 64,
   "metadata": {},
   "outputs": [
    {
     "name": "stdout",
     "output_type": "stream",
     "text": [
      "Model: \"unet\"\n",
      "_________________________________________________________________\n",
      " Layer (type)                Output Shape              Param #   \n",
      "=================================================================\n",
      " downsample_layer_72 (Downsa  multiple                 38720     \n",
      " mpleLayer)                                                      \n",
      "                                                                 \n",
      " downsample_layer_73 (Downsa  multiple                 221440    \n",
      " mpleLayer)                                                      \n",
      "                                                                 \n",
      " downsample_layer_74 (Downsa  multiple                 885248    \n",
      " mpleLayer)                                                      \n",
      "                                                                 \n",
      " downsample_layer_75 (Downsa  multiple                 3539968   \n",
      " mpleLayer)                                                      \n",
      "                                                                 \n",
      " double_conv_layer_166 (Doub  multiple                 14157824  \n",
      " leConvLayer)                                                    \n",
      "                                                                 \n",
      " upsample_layer_72 (Upsample  multiple                 11798016  \n",
      " Layer)                                                          \n",
      "                                                                 \n",
      " upsample_layer_73 (Upsample  multiple                 2949888   \n",
      " Layer)                                                          \n",
      "                                                                 \n",
      " upsample_layer_74 (Upsample  multiple                 737664    \n",
      " Layer)                                                          \n",
      "                                                                 \n",
      " upsample_layer_75 (Upsample  multiple                 184512    \n",
      " Layer)                                                          \n",
      "                                                                 \n",
      " conv2d_362 (Conv2D)         multiple                  715       \n",
      "                                                                 \n",
      "=================================================================\n",
      "Total params: 34,513,995\n",
      "Trainable params: 34,513,995\n",
      "Non-trainable params: 0\n",
      "_________________________________________________________________\n"
     ]
    },
    {
     "ename": "",
     "evalue": "",
     "output_type": "error",
     "traceback": [
      "\u001b[1;31mThe Kernel crashed while executing code in the the current cell or a previous cell. Please review the code in the cell(s) to identify a possible cause of the failure. Click <a href='https://aka.ms/vscodeJupyterKernelCrash'>here</a> for more info. View Jupyter <a href='command:jupyter.viewOutput'>log</a> for further details."
     ]
    }
   ],
   "source": [
    "model.summary()"
   ]
  },
  {
   "cell_type": "code",
   "execution_count": 2,
   "metadata": {},
   "outputs": [],
   "source": [
    "# def double_conv_block(x, n_filters):\n",
    "#     x = layers.Conv2D(n_filters, 3, padding = \"same\", activation = \"relu\", kernel_initializer = \"he_normal\")(x)\n",
    "#     x = layers.Conv2D(n_filters, 3, padding = \"same\", activation = \"relu\", kernel_initializer = \"he_normal\")(x)\n",
    "#     return x\n",
    "\n",
    "\n",
    "# def downsample_block(x, n_filters):\n",
    "#     f = double_conv_block(x, n_filters)\n",
    "#     p = layers.MaxPool2D(2)(f)\n",
    "#     p = layers.Dropout(0.3)(p)\n",
    "#     return f, p\n",
    "\n",
    "\n",
    "# def upsample_block(x, conv_features, n_filters):\n",
    "#     x = layers.Conv2DTranspose(n_filters, 3, 2, padding=\"same\")(x)\n",
    "#     x = layers.concatenate([x, conv_features])\n",
    "#     x = layers.Dropout(0.3)(x)\n",
    "#     x = double_conv_block(x, n_filters)\n",
    "#     return x\n",
    "\n",
    "\n",
    "def build_unet_model():\n",
    "    inputs = layers.Input(shape=(128,128,3))\n",
    "\n",
    "    # downsamping\n",
    "    f1, p1 = downsample_block(inputs, 64)\n",
    "    f2, p2 = downsample_block(p1, 128)\n",
    "    f3, p3 = downsample_block(p2, 256)\n",
    "    f4, p4 = downsample_block(p3, 512)\n",
    "\n",
    "    # 5 - bottleneck\n",
    "    bottleneck = double_conv_block(p4, 1024)\n",
    "\n",
    "    # upsampling\n",
    "    u6 = upsample_block(bottleneck, f4, 512)\n",
    "    u7 = upsample_block(u6, f3, 256)\n",
    "    u8 = upsample_block(u7, f2, 128)\n",
    "    u9 = upsample_block(u8, f1, 64)\n",
    "\n",
    "    # outputs\n",
    "    outputs = layers.Conv2D(11, 1, padding=\"same\", activation = \"softmax\")(u9)\n",
    "    unet_model = tf.keras.Model(inputs, outputs, name=\"U-Net\")\n",
    "    return unet_model"
   ]
  }
 ],
 "metadata": {
  "kernelspec": {
   "display_name": "Python 3",
   "language": "python",
   "name": "python3"
  },
  "language_info": {
   "codemirror_mode": {
    "name": "ipython",
    "version": 3
   },
   "file_extension": ".py",
   "mimetype": "text/x-python",
   "name": "python",
   "nbconvert_exporter": "python",
   "pygments_lexer": "ipython3",
   "version": "3.10.9"
  },
  "orig_nbformat": 4
 },
 "nbformat": 4,
 "nbformat_minor": 2
}
